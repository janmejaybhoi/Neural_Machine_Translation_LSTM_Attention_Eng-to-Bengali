{
  "nbformat": 4,
  "nbformat_minor": 0,
  "metadata": {
    "colab": {
      "name": "NMT.ipynb",
      "provenance": [],
      "collapsed_sections": [],
      "include_colab_link": true
    },
    "kernelspec": {
      "name": "python3",
      "display_name": "Python 3"
    },
    "accelerator": "GPU"
  },
  "cells": [
    {
      "cell_type": "markdown",
      "metadata": {
        "id": "view-in-github",
        "colab_type": "text"
      },
      "source": [
        "<a href=\"https://colab.research.google.com/github/janmejaybhoi/Neural_Machine_Translation_LSTM_Attention_Eng-to-Bengali/blob/main/NMT.ipynb\" target=\"_parent\"><img src=\"https://colab.research.google.com/assets/colab-badge.svg\" alt=\"Open In Colab\"/></a>"
      ]
    },
    {
      "cell_type": "markdown",
      "metadata": {
        "id": "1Cf_WjDmT9lV"
      },
      "source": [
        "<h1 align=center>NMT</h1>"
      ]
    },
    {
      "cell_type": "code",
      "metadata": {
        "id": "AESHaivdF9UN"
      },
      "source": [
        "import re\n",
        "import string\n",
        "import numpy as np\n",
        "import pandas as pd\n",
        "import pickle as pkl\n",
        "from string import digits\n",
        "from sklearn.utils import shuffle\n",
        "from tensorflow.keras.utils import plot_model\n",
        "from tensorflow.keras.callbacks import EarlyStopping\n",
        "from sklearn.model_selection import train_test_split\n",
        "from tensorflow.keras.preprocessing.sequence import pad_sequences\n",
        "from tensorflow.keras.preprocessing.text import one_hot, Tokenizer\n",
        "from tensorflow.keras.models import Model,load_model, model_from_json\n",
        "from tensorflow.keras.layers import LSTM, Input, Dense,Embedding, Concatenate, TimeDistributed"
      ],
      "execution_count": 393,
      "outputs": []
    },
    {
      "cell_type": "code",
      "metadata": {
        "id": "gVDZ22N4F4_-"
      },
      "source": [
        "from attention import AttentionLayer"
      ],
      "execution_count": 394,
      "outputs": []
    },
    {
      "cell_type": "code",
      "metadata": {
        "id": "SrUPL-HqGMkr"
      },
      "source": [
        "with open('ben.txt','r') as f:\n",
        "  data = f.read()"
      ],
      "execution_count": 395,
      "outputs": []
    },
    {
      "cell_type": "code",
      "metadata": {
        "id": "Ib7_4gUZGOiy"
      },
      "source": [
        "uncleaned_data_list = data.split('\\n')"
      ],
      "execution_count": 396,
      "outputs": []
    },
    {
      "cell_type": "code",
      "metadata": {
        "id": "XKI3YKYxGQbx",
        "outputId": "402e5d08-1b78-4981-ff60-8299f5a88d48",
        "colab": {
          "base_uri": "https://localhost:8080/",
          "height": 35
        }
      },
      "source": [
        "len(uncleaned_data_list)"
      ],
      "execution_count": 397,
      "outputs": [
        {
          "output_type": "execute_result",
          "data": {
            "text/plain": [
              "4343"
            ]
          },
          "metadata": {
            "tags": []
          },
          "execution_count": 397
        }
      ]
    },
    {
      "cell_type": "code",
      "metadata": {
        "id": "azORyGptGSDo"
      },
      "source": [
        "uncleaned_data_list = uncleaned_data_list[:4342]"
      ],
      "execution_count": 398,
      "outputs": []
    },
    {
      "cell_type": "code",
      "metadata": {
        "id": "SS8IaCfSGTtU",
        "outputId": "e86411aa-3a0c-4adb-cc6b-5b245e50e025",
        "colab": {
          "base_uri": "https://localhost:8080/",
          "height": 35
        }
      },
      "source": [
        "len(uncleaned_data_list)"
      ],
      "execution_count": 399,
      "outputs": [
        {
          "output_type": "execute_result",
          "data": {
            "text/plain": [
              "4342"
            ]
          },
          "metadata": {
            "tags": []
          },
          "execution_count": 399
        }
      ]
    },
    {
      "cell_type": "code",
      "metadata": {
        "id": "gpQTjwbwGVXQ"
      },
      "source": [
        "english_word = []\n",
        "Bengali_word = []\n",
        "cleaned_data_list = []\n",
        "for word in uncleaned_data_list:\n",
        "  english_word.append(word.split('\\t')[:-1][0])\n",
        "  Bengali_word.append(word.split('\\t')[:-1][1])"
      ],
      "execution_count": 400,
      "outputs": []
    },
    {
      "cell_type": "code",
      "metadata": {
        "id": "e3u5tLR7GYu-",
        "outputId": "8fe229a8-acaf-405a-c228-99f5ec24d6af",
        "colab": {
          "base_uri": "https://localhost:8080/",
          "height": 35
        }
      },
      "source": [
        "len(english_word), len(marathi_word)\n"
      ],
      "execution_count": 401,
      "outputs": [
        {
          "output_type": "execute_result",
          "data": {
            "text/plain": [
              "(4342, 4342)"
            ]
          },
          "metadata": {
            "tags": []
          },
          "execution_count": 401
        }
      ]
    },
    {
      "cell_type": "code",
      "metadata": {
        "id": "hup-VkBqGa4z"
      },
      "source": [
        "language_data = pd.DataFrame(columns=['English','Bengali'])\n",
        "language_data['English'] = english_word\n",
        "language_data['Bengali'] = Bengali_word"
      ],
      "execution_count": 402,
      "outputs": []
    },
    {
      "cell_type": "code",
      "metadata": {
        "id": "BrTVdhzZGdSM"
      },
      "source": [
        "language_data.to_csv('language_data.csv', index=False)\n"
      ],
      "execution_count": 403,
      "outputs": []
    },
    {
      "cell_type": "code",
      "metadata": {
        "id": "sutza6VYGfKc"
      },
      "source": [
        "language_data = pd.read_csv('language_data.csv')\n"
      ],
      "execution_count": 404,
      "outputs": []
    },
    {
      "cell_type": "code",
      "metadata": {
        "id": "HSrVH0y3GguJ",
        "outputId": "73d2c4b8-0d96-445c-8e23-352f8127ae3b",
        "colab": {
          "base_uri": "https://localhost:8080/",
          "height": 194
        }
      },
      "source": [
        "language_data.head()\n"
      ],
      "execution_count": 405,
      "outputs": [
        {
          "output_type": "execute_result",
          "data": {
            "text/html": [
              "<div>\n",
              "<style scoped>\n",
              "    .dataframe tbody tr th:only-of-type {\n",
              "        vertical-align: middle;\n",
              "    }\n",
              "\n",
              "    .dataframe tbody tr th {\n",
              "        vertical-align: top;\n",
              "    }\n",
              "\n",
              "    .dataframe thead th {\n",
              "        text-align: right;\n",
              "    }\n",
              "</style>\n",
              "<table border=\"1\" class=\"dataframe\">\n",
              "  <thead>\n",
              "    <tr style=\"text-align: right;\">\n",
              "      <th></th>\n",
              "      <th>English</th>\n",
              "      <th>Bengali</th>\n",
              "    </tr>\n",
              "  </thead>\n",
              "  <tbody>\n",
              "    <tr>\n",
              "      <th>0</th>\n",
              "      <td>Go.</td>\n",
              "      <td>যাও।</td>\n",
              "    </tr>\n",
              "    <tr>\n",
              "      <th>1</th>\n",
              "      <td>Go.</td>\n",
              "      <td>যান।</td>\n",
              "    </tr>\n",
              "    <tr>\n",
              "      <th>2</th>\n",
              "      <td>Go.</td>\n",
              "      <td>যা।</td>\n",
              "    </tr>\n",
              "    <tr>\n",
              "      <th>3</th>\n",
              "      <td>Run!</td>\n",
              "      <td>পালাও!</td>\n",
              "    </tr>\n",
              "    <tr>\n",
              "      <th>4</th>\n",
              "      <td>Run!</td>\n",
              "      <td>পালান!</td>\n",
              "    </tr>\n",
              "  </tbody>\n",
              "</table>\n",
              "</div>"
            ],
            "text/plain": [
              "  English Bengali\n",
              "0     Go.    যাও।\n",
              "1     Go.    যান।\n",
              "2     Go.     যা।\n",
              "3    Run!  পালাও!\n",
              "4    Run!  পালান!"
            ]
          },
          "metadata": {
            "tags": []
          },
          "execution_count": 405
        }
      ]
    },
    {
      "cell_type": "code",
      "metadata": {
        "id": "NxCNeNexGiQZ"
      },
      "source": [
        "english_text = language_data['English'].values\n",
        "Bengali_text = language_data['Bengali'].values"
      ],
      "execution_count": 406,
      "outputs": []
    },
    {
      "cell_type": "code",
      "metadata": {
        "id": "99etuBeOGlNq",
        "outputId": "e35323a2-b165-4075-cd54-48c81e284aca",
        "colab": {
          "base_uri": "https://localhost:8080/",
          "height": 35
        }
      },
      "source": [
        "english_text[0], Bengali_text[0]\n"
      ],
      "execution_count": 407,
      "outputs": [
        {
          "output_type": "execute_result",
          "data": {
            "text/plain": [
              "('Go.', 'যাও।')"
            ]
          },
          "metadata": {
            "tags": []
          },
          "execution_count": 407
        }
      ]
    },
    {
      "cell_type": "code",
      "metadata": {
        "id": "d3olaKJNGnTy",
        "outputId": "f34830d3-11d8-4b35-e61e-60fcd737e725",
        "colab": {
          "base_uri": "https://localhost:8080/",
          "height": 35
        }
      },
      "source": [
        "len(english_text), len(Bengali_text)\n"
      ],
      "execution_count": 408,
      "outputs": [
        {
          "output_type": "execute_result",
          "data": {
            "text/plain": [
              "(4342, 4342)"
            ]
          },
          "metadata": {
            "tags": []
          },
          "execution_count": 408
        }
      ]
    },
    {
      "cell_type": "code",
      "metadata": {
        "id": "s4LN_hYGGo2n"
      },
      "source": [
        "english_text_ = [x.lower() for x in english_text]\n",
        "Bengali_text_ = [x.lower() for x in Bengali_text]"
      ],
      "execution_count": 409,
      "outputs": []
    },
    {
      "cell_type": "code",
      "metadata": {
        "id": "pr5CfqTsGsiF"
      },
      "source": [
        "english_text_ = [re.sub(\"'\",'',x) for x in english_text_]\n",
        "Bengali_text_ = [re.sub(\"'\",'',x) for x in Bengali_text_]"
      ],
      "execution_count": 410,
      "outputs": []
    },
    {
      "cell_type": "code",
      "metadata": {
        "id": "A6tuvUFiGxP5"
      },
      "source": [
        "def remove_punc(text_list):\n",
        "  table = str.maketrans('', '', string.punctuation)\n",
        "  removed_punc_text = []\n",
        "  for sent in text_list:\n",
        "    sentance = [w.translate(table) for w in sent.split(' ')]\n",
        "    removed_punc_text.append(' '.join(sentance))\n",
        "  return removed_punc_text\n",
        "english_text_ = remove_punc(english_text_)\n",
        "Bengali_text_ = remove_punc(Bengali_text_)"
      ],
      "execution_count": 411,
      "outputs": []
    },
    {
      "cell_type": "code",
      "metadata": {
        "id": "tOlLIwBdGzo0"
      },
      "source": [
        "remove_digits = str.maketrans('', '', digits)\n",
        "removed_digits_text = []\n",
        "for sent in english_text_:\n",
        "  sentance = [w.translate(remove_digits) for w in sent.split(' ')]\n",
        "  removed_digits_text.append(' '.join(sentance))\n",
        "english_text_ = removed_digits_text\n",
        "\n",
        "# removing the digits from the Bengali sentances\n",
        "Bengali_text_ = [re.sub(\"[৭০১২৩৪৫৬৭৮৯]\",\"\",x) for x in Bengali_text_]\n",
        "Bengali_text_ = [re.sub(\"[\\u200d]\",\"\",x) for x in Bengali_text_]\n",
        "\n",
        "# removing the stating and ending whitespaces\n",
        "english_text_ = [x.strip() for x in english_text_]\n",
        "Bengali_text_ = [x.strip() for x in Bengali_text_]"
      ],
      "execution_count": 412,
      "outputs": []
    },
    {
      "cell_type": "code",
      "metadata": {
        "id": "EwnF9056G1Wn"
      },
      "source": [
        "# removing the starting and ending whitespaces\n",
        "english_text_ = [x.strip() for x in english_text_]\n",
        "Bengali_text_ = [x.strip() for x in Bengali_text_]"
      ],
      "execution_count": 413,
      "outputs": []
    },
    {
      "cell_type": "code",
      "metadata": {
        "id": "7LGnmEACG4fM"
      },
      "source": [
        "# Putting the start and end words in the Bengali sentances\n",
        "Bengali_text_ = [\"start \" + x + \" end\" for x in Bengali_text_]"
      ],
      "execution_count": 414,
      "outputs": []
    },
    {
      "cell_type": "code",
      "metadata": {
        "id": "37N5R59xG6Rb",
        "outputId": "f8795e25-895a-4486-a07a-511f672a8de7",
        "colab": {
          "base_uri": "https://localhost:8080/",
          "height": 35
        }
      },
      "source": [
        "Bengali_text_[0], english_text_[0]"
      ],
      "execution_count": 415,
      "outputs": [
        {
          "output_type": "execute_result",
          "data": {
            "text/plain": [
              "('start যাও। end', 'go')"
            ]
          },
          "metadata": {
            "tags": []
          },
          "execution_count": 415
        }
      ]
    },
    {
      "cell_type": "code",
      "metadata": {
        "id": "yIMWLghNG7qc",
        "outputId": "1d5ea4c8-ddae-46df-97ac-758d26b9be9c",
        "colab": {
          "base_uri": "https://localhost:8080/",
          "height": 35
        }
      },
      "source": [
        "# manipulated_marathi_text_\n",
        "Bengali_text_[0], english_text_[0]"
      ],
      "execution_count": 416,
      "outputs": [
        {
          "output_type": "execute_result",
          "data": {
            "text/plain": [
              "('start যাও। end', 'go')"
            ]
          },
          "metadata": {
            "tags": []
          },
          "execution_count": 416
        }
      ]
    },
    {
      "cell_type": "code",
      "metadata": {
        "id": "e7tbAv_wG9Xj"
      },
      "source": [
        "\n",
        "X = english_text_\n",
        "Y = Bengali_text_"
      ],
      "execution_count": 417,
      "outputs": []
    },
    {
      "cell_type": "code",
      "metadata": {
        "id": "K_cSlHB_G_Fi",
        "outputId": "d878e563-3713-4a92-c1a2-45a3e48081f0",
        "colab": {
          "base_uri": "https://localhost:8080/",
          "height": 35
        }
      },
      "source": [
        "X_train, X_test, y_train, y_test = train_test_split(X,Y,test_size = 0.1)\n",
        "len(X_train),len(y_train), len(X_test), len(y_test)"
      ],
      "execution_count": 418,
      "outputs": [
        {
          "output_type": "execute_result",
          "data": {
            "text/plain": [
              "(3907, 3907, 435, 435)"
            ]
          },
          "metadata": {
            "tags": []
          },
          "execution_count": 418
        }
      ]
    },
    {
      "cell_type": "code",
      "metadata": {
        "id": "ZIxnnLAUHGi6",
        "outputId": "20f852f0-2e01-4a97-8707-401b72a9a814",
        "colab": {
          "base_uri": "https://localhost:8080/",
          "height": 35
        }
      },
      "source": [
        "\n",
        "X_train[0], y_train[0]"
      ],
      "execution_count": 419,
      "outputs": [
        {
          "output_type": "execute_result",
          "data": {
            "text/plain": [
              "('i want time', 'start আমার সময় চাই। end')"
            ]
          },
          "metadata": {
            "tags": []
          },
          "execution_count": 419
        }
      ]
    },
    {
      "cell_type": "code",
      "metadata": {
        "id": "6KHSf9EVHJj-"
      },
      "source": [
        "\n",
        "def Max_length(data):\n",
        "  max_length_ = max([len(x.split(' ')) for x in data])\n",
        "  return max_length_\n",
        "\n",
        "#Training data\n",
        "max_length_english = Max_length(X_train)\n",
        "max_length_Bengali = Max_length(y_train)\n",
        "\n",
        "#Test data\n",
        "max_length_english_test = Max_length(X_test)\n",
        "max_length_Bengali_test = Max_length(y_test)"
      ],
      "execution_count": 420,
      "outputs": []
    },
    {
      "cell_type": "code",
      "metadata": {
        "id": "Zi2m41meHNBh",
        "outputId": "d8b7344e-6abb-4392-9907-8fd1eff9b115",
        "colab": {
          "base_uri": "https://localhost:8080/",
          "height": 35
        }
      },
      "source": [
        "max_length_Bengali, max_length_english\n"
      ],
      "execution_count": 421,
      "outputs": [
        {
          "output_type": "execute_result",
          "data": {
            "text/plain": [
              "(20, 19)"
            ]
          },
          "metadata": {
            "tags": []
          },
          "execution_count": 421
        }
      ]
    },
    {
      "cell_type": "code",
      "metadata": {
        "id": "-jWoD4HnHOyG"
      },
      "source": [
        "englishTokenizer = Tokenizer()\n",
        "englishTokenizer.fit_on_texts(X_train)\n",
        "Eword2index = englishTokenizer.word_index\n",
        "vocab_size_source = len(Eword2index) + 1\n",
        "\n",
        "X_train = englishTokenizer.texts_to_sequences(X_train)\n",
        "X_train = pad_sequences(X_train, maxlen=max_length_english, padding='post')\n",
        "\n",
        "X_test = englishTokenizer.texts_to_sequences(X_test)\n",
        "X_test = pad_sequences(X_test, maxlen = max_length_english, padding='post')\n"
      ],
      "execution_count": 422,
      "outputs": []
    },
    {
      "cell_type": "code",
      "metadata": {
        "id": "e_XScLyNICD9"
      },
      "source": [
        "BengaliTokenizer = Tokenizer()\n",
        "BengaliTokenizer.fit_on_texts(y_train)\n",
        "Bword2index = BengaliTokenizer.word_index\n",
        "vocab_size_target = len(Bword2index) + 1\n",
        "\n",
        "y_train = BengaliTokenizer.texts_to_sequences(y_train)\n",
        "y_train = pad_sequences(y_train, maxlen=max_length_Bengali, padding='post')\n",
        "\n",
        "y_test = BengaliTokenizer.texts_to_sequences(y_test)\n",
        "y_test = pad_sequences(y_test, maxlen = max_length_Bengali, padding='post')\n"
      ],
      "execution_count": 423,
      "outputs": []
    },
    {
      "cell_type": "code",
      "metadata": {
        "id": "6Su1LTElIQut",
        "outputId": "e45c410c-468a-4ca6-9de9-9ee6da16ae93",
        "colab": {
          "base_uri": "https://localhost:8080/",
          "height": 35
        }
      },
      "source": [
        "vocab_size_source, vocab_size_target"
      ],
      "execution_count": 424,
      "outputs": [
        {
          "output_type": "execute_result",
          "data": {
            "text/plain": [
              "(1778, 3132)"
            ]
          },
          "metadata": {
            "tags": []
          },
          "execution_count": 424
        }
      ]
    },
    {
      "cell_type": "code",
      "metadata": {
        "id": "5RtXpddyIUpw"
      },
      "source": [
        "with open('NMT_data.pkl','wb') as f:\n",
        "  pkl.dump([X_train, y_train, X_test, y_test],f)\n"
      ],
      "execution_count": 425,
      "outputs": []
    },
    {
      "cell_type": "code",
      "metadata": {
        "id": "TtwW_BJgIpDr"
      },
      "source": [
        "with open('NMT_Etokenizer.pkl','wb') as f:\n",
        "  pkl.dump([vocab_size_source, Eword2index, englishTokenizer], f)\n",
        "\n",
        "with open('NMT_Btokenizer.pkl', 'wb') as f:\n",
        "  pkl.dump([vocab_size_target, Bword2index, BengaliTokenizer], f)"
      ],
      "execution_count": 426,
      "outputs": []
    },
    {
      "cell_type": "code",
      "metadata": {
        "id": "JvPpqk57KKtT",
        "outputId": "365e561a-17d3-46f0-ec35-31fb91340fbe",
        "colab": {
          "base_uri": "https://localhost:8080/",
          "height": 88
        }
      },
      "source": [
        "X_train[0], y_train[0]"
      ],
      "execution_count": 427,
      "outputs": [
        {
          "output_type": "execute_result",
          "data": {
            "text/plain": [
              "(array([ 1, 19, 40,  0,  0,  0,  0,  0,  0,  0,  0,  0,  0,  0,  0,  0,  0,\n",
              "         0,  0], dtype=int32),\n",
              " array([ 1,  5, 34, 42,  2,  0,  0,  0,  0,  0,  0,  0,  0,  0,  0,  0,  0,\n",
              "         0,  0,  0], dtype=int32))"
            ]
          },
          "metadata": {
            "tags": []
          },
          "execution_count": 427
        }
      ]
    },
    {
      "cell_type": "code",
      "metadata": {
        "id": "jkZBXBgrKU2X"
      },
      "source": [
        "X_train = np.array(X_train)\n",
        "y_train = np.array(y_train)\n",
        "X_test = np.array(X_test)\n",
        "y_test = np.array(y_test)"
      ],
      "execution_count": 428,
      "outputs": []
    },
    {
      "cell_type": "code",
      "metadata": {
        "id": "eJ4-JqNcKnE-",
        "outputId": "07806b97-3a8a-400c-a27a-a44647340aba",
        "colab": {
          "base_uri": "https://localhost:8080/",
          "height": 88
        }
      },
      "source": [
        "X_train[0], y_train[0]"
      ],
      "execution_count": 429,
      "outputs": [
        {
          "output_type": "execute_result",
          "data": {
            "text/plain": [
              "(array([ 1, 19, 40,  0,  0,  0,  0,  0,  0,  0,  0,  0,  0,  0,  0,  0,  0,\n",
              "         0,  0], dtype=int32),\n",
              " array([ 1,  5, 34, 42,  2,  0,  0,  0,  0,  0,  0,  0,  0,  0,  0,  0,  0,\n",
              "         0,  0,  0], dtype=int32))"
            ]
          },
          "metadata": {
            "tags": []
          },
          "execution_count": 429
        }
      ]
    },
    {
      "cell_type": "code",
      "metadata": {
        "id": "LABJfJNZMmxt",
        "outputId": "3174fb82-4af0-4acf-f8a1-a513be62f75a",
        "colab": {
          "base_uri": "https://localhost:8080/",
          "height": 621
        }
      },
      "source": [
        "from keras import backend as K \n",
        "K.clear_session() \n",
        "latent_dim = 500 \n",
        "\n",
        "# Encoder \n",
        "encoder_inputs = Input(shape=(max_length_english,)) \n",
        "enc_emb = Embedding(vocab_size_source, latent_dim,trainable=True)(encoder_inputs) \n",
        "\n",
        "#LSTM 1 \n",
        "encoder_lstm1 = LSTM(latent_dim,return_sequences=True,return_state=True) \n",
        "encoder_output1, state_h1, state_c1 = encoder_lstm1(enc_emb) \n",
        "\n",
        "#LSTM 2 \n",
        "encoder_lstm2 = LSTM(latent_dim,return_sequences=True,return_state=True) \n",
        "encoder_output2, state_h2, state_c2 = encoder_lstm2(encoder_output1) \n",
        "\n",
        "#LSTM 3 \n",
        "encoder_lstm3=LSTM(latent_dim, return_state=True, return_sequences=True) \n",
        "encoder_outputs, state_h, state_c= encoder_lstm3(encoder_output2) \n",
        "\n",
        "# Set up the decoder. \n",
        "decoder_inputs = Input(shape=(None,)) \n",
        "dec_emb_layer = Embedding(vocab_size_target, latent_dim,trainable=True) \n",
        "dec_emb = dec_emb_layer(decoder_inputs) \n",
        "\n",
        "#LSTM using encoder_states as initial state\n",
        "decoder_lstm = LSTM(latent_dim, return_sequences=True, return_state=True) \n",
        "decoder_outputs,decoder_fwd_state, decoder_back_state = decoder_lstm(dec_emb,initial_state=[state_h, state_c]) \n",
        "\n",
        "#Attention Layer\n",
        "attn_layer = AttentionLayer(name='attention_layer') \n",
        "attn_out, attn_states = attn_layer([encoder_outputs, decoder_outputs]) \n",
        "\n",
        "# Concat attention output and decoder LSTM output \n",
        "decoder_concat_input = Concatenate(axis=-1, name='concat_layer')([decoder_outputs, attn_out])\n",
        "\n",
        "#Dense layer\n",
        "decoder_dense = TimeDistributed(Dense(vocab_size_target, activation='softmax')) \n",
        "decoder_outputs = decoder_dense(decoder_concat_input) \n",
        "\n",
        "# Define the model\n",
        "model = Model([encoder_inputs, decoder_inputs], decoder_outputs) \n",
        "model.summary()"
      ],
      "execution_count": 430,
      "outputs": [
        {
          "output_type": "stream",
          "text": [
            "Model: \"functional_1\"\n",
            "__________________________________________________________________________________________________\n",
            "Layer (type)                    Output Shape         Param #     Connected to                     \n",
            "==================================================================================================\n",
            "input_1 (InputLayer)            [(None, 19)]         0                                            \n",
            "__________________________________________________________________________________________________\n",
            "embedding (Embedding)           (None, 19, 500)      889000      input_1[0][0]                    \n",
            "__________________________________________________________________________________________________\n",
            "lstm (LSTM)                     [(None, 19, 500), (N 2002000     embedding[0][0]                  \n",
            "__________________________________________________________________________________________________\n",
            "input_2 (InputLayer)            [(None, None)]       0                                            \n",
            "__________________________________________________________________________________________________\n",
            "lstm_1 (LSTM)                   [(None, 19, 500), (N 2002000     lstm[0][0]                       \n",
            "__________________________________________________________________________________________________\n",
            "embedding_1 (Embedding)         (None, None, 500)    1566000     input_2[0][0]                    \n",
            "__________________________________________________________________________________________________\n",
            "lstm_2 (LSTM)                   [(None, 19, 500), (N 2002000     lstm_1[0][0]                     \n",
            "__________________________________________________________________________________________________\n",
            "lstm_3 (LSTM)                   [(None, None, 500),  2002000     embedding_1[0][0]                \n",
            "                                                                 lstm_2[0][1]                     \n",
            "                                                                 lstm_2[0][2]                     \n",
            "__________________________________________________________________________________________________\n",
            "attention_layer (AttentionLayer ((None, None, 500),  500500      lstm_2[0][0]                     \n",
            "                                                                 lstm_3[0][0]                     \n",
            "__________________________________________________________________________________________________\n",
            "concat_layer (Concatenate)      (None, None, 1000)   0           lstm_3[0][0]                     \n",
            "                                                                 attention_layer[0][0]            \n",
            "__________________________________________________________________________________________________\n",
            "time_distributed (TimeDistribut (None, None, 3132)   3135132     concat_layer[0][0]               \n",
            "==================================================================================================\n",
            "Total params: 14,098,632\n",
            "Trainable params: 14,098,632\n",
            "Non-trainable params: 0\n",
            "__________________________________________________________________________________________________\n"
          ],
          "name": "stdout"
        }
      ]
    },
    {
      "cell_type": "code",
      "metadata": {
        "id": "m-IsKDGnK9ik",
        "outputId": "cc207a1a-b8dd-499a-f514-7af5cc142cbe",
        "colab": {
          "base_uri": "https://localhost:8080/",
          "height": 976
        }
      },
      "source": [
        "plot_model(model, to_file='train_model.png', show_shapes=True)\n"
      ],
      "execution_count": 431,
      "outputs": [
        {
          "output_type": "execute_result",
          "data": {
            "image/png": "[encoded data removed]",
            "text/plain": [
              "<IPython.core.display.Image object>"
            ]
          },
          "metadata": {
            "tags": []
          },
          "execution_count": 431
        }
      ]
    },
    {
      "cell_type": "code",
      "metadata": {
        "id": "BFANNvJuN2Dc"
      },
      "source": [
        "model.compile(optimizer='rmsprop', loss='sparse_categorical_crossentropy', metrics=['accuracy'])\n"
      ],
      "execution_count": 432,
      "outputs": []
    },
    {
      "cell_type": "code",
      "metadata": {
        "id": "AJLBBzNgNevf"
      },
      "source": [
        "es = EarlyStopping(monitor='val_loss', mode='min',patience= 5, verbose=1)"
      ],
      "execution_count": 433,
      "outputs": []
    },
    {
      "cell_type": "code",
      "metadata": {
        "id": "X_65vQcaNBCj",
        "outputId": "09f9aa11-2772-440c-8f37-9c9a5fc2c4a3",
        "colab": {
          "base_uri": "https://localhost:8080/",
          "height": 959
        }
      },
      "source": [
        "history = model.fit([X_train, y_train[:,:-1]], y_train.reshape(y_train.shape[0], y_train.shape[1],1)[:,1:], \n",
        "                    epochs=50, \n",
        "                    callbacks=[es],\n",
        "                    batch_size=64,\n",
        "                    validation_data = ([X_test, y_test[:,:-1]], y_test.reshape(y_test.shape[0], y_test.shape[1], 1)[:,1:]))"
      ],
      "execution_count": 434,
      "outputs": [
        {
          "output_type": "stream",
          "text": [
            "Epoch 1/50\n",
            "62/62 [==============================] - 6s 101ms/step - loss: 1.9925 - accuracy: 0.7359 - val_loss: 1.4177 - val_accuracy: 0.7985\n",
            "Epoch 2/50\n",
            "62/62 [==============================] - 5s 80ms/step - loss: 1.4873 - accuracy: 0.7857 - val_loss: 1.3225 - val_accuracy: 0.8025\n",
            "Epoch 3/50\n",
            "62/62 [==============================] - 5s 81ms/step - loss: 1.3609 - accuracy: 0.7912 - val_loss: 1.2681 - val_accuracy: 0.8038\n",
            "Epoch 4/50\n",
            "62/62 [==============================] - 5s 80ms/step - loss: 1.2421 - accuracy: 0.8000 - val_loss: 1.1592 - val_accuracy: 0.8129\n",
            "Epoch 5/50\n",
            "62/62 [==============================] - 5s 79ms/step - loss: 1.1232 - accuracy: 0.8115 - val_loss: 1.1208 - val_accuracy: 0.8188\n",
            "Epoch 6/50\n",
            "62/62 [==============================] - 5s 80ms/step - loss: 1.0115 - accuracy: 0.8234 - val_loss: 1.0488 - val_accuracy: 0.8241\n",
            "Epoch 7/50\n",
            "62/62 [==============================] - 5s 80ms/step - loss: 0.9006 - accuracy: 0.8335 - val_loss: 0.9926 - val_accuracy: 0.8364\n",
            "Epoch 8/50\n",
            "62/62 [==============================] - 5s 80ms/step - loss: 0.7999 - accuracy: 0.8459 - val_loss: 0.9645 - val_accuracy: 0.8394\n",
            "Epoch 9/50\n",
            "62/62 [==============================] - 5s 80ms/step - loss: 0.7135 - accuracy: 0.8563 - val_loss: 0.9554 - val_accuracy: 0.8420\n",
            "Epoch 10/50\n",
            "62/62 [==============================] - 5s 81ms/step - loss: 0.6332 - accuracy: 0.8682 - val_loss: 0.8915 - val_accuracy: 0.8498\n",
            "Epoch 11/50\n",
            "62/62 [==============================] - 5s 80ms/step - loss: 0.5600 - accuracy: 0.8787 - val_loss: 0.8909 - val_accuracy: 0.8529\n",
            "Epoch 12/50\n",
            "62/62 [==============================] - 5s 80ms/step - loss: 0.4926 - accuracy: 0.8905 - val_loss: 0.8592 - val_accuracy: 0.8587\n",
            "Epoch 13/50\n",
            "62/62 [==============================] - 5s 80ms/step - loss: 0.4335 - accuracy: 0.9026 - val_loss: 0.8712 - val_accuracy: 0.8566\n",
            "Epoch 14/50\n",
            "62/62 [==============================] - 5s 80ms/step - loss: 0.3798 - accuracy: 0.9123 - val_loss: 0.8437 - val_accuracy: 0.8588\n",
            "Epoch 15/50\n",
            "62/62 [==============================] - 5s 80ms/step - loss: 0.3313 - accuracy: 0.9228 - val_loss: 0.8306 - val_accuracy: 0.8657\n",
            "Epoch 16/50\n",
            "62/62 [==============================] - 5s 81ms/step - loss: 0.2914 - accuracy: 0.9308 - val_loss: 0.8348 - val_accuracy: 0.8657\n",
            "Epoch 17/50\n",
            "62/62 [==============================] - 5s 81ms/step - loss: 0.2570 - accuracy: 0.9390 - val_loss: 0.8389 - val_accuracy: 0.8672\n",
            "Epoch 18/50\n",
            "62/62 [==============================] - 5s 81ms/step - loss: 0.2251 - accuracy: 0.9442 - val_loss: 0.8317 - val_accuracy: 0.8720\n",
            "Epoch 19/50\n",
            "62/62 [==============================] - 5s 80ms/step - loss: 0.2016 - accuracy: 0.9495 - val_loss: 0.8199 - val_accuracy: 0.8738\n",
            "Epoch 20/50\n",
            "62/62 [==============================] - 5s 81ms/step - loss: 0.1765 - accuracy: 0.9548 - val_loss: 0.8192 - val_accuracy: 0.8754\n",
            "Epoch 21/50\n",
            "62/62 [==============================] - 5s 80ms/step - loss: 0.1611 - accuracy: 0.9579 - val_loss: 0.8187 - val_accuracy: 0.8757\n",
            "Epoch 22/50\n",
            "62/62 [==============================] - 5s 80ms/step - loss: 0.1430 - accuracy: 0.9617 - val_loss: 0.8303 - val_accuracy: 0.8770\n",
            "Epoch 23/50\n",
            "62/62 [==============================] - 5s 80ms/step - loss: 0.1318 - accuracy: 0.9633 - val_loss: 0.8317 - val_accuracy: 0.8779\n",
            "Epoch 24/50\n",
            "62/62 [==============================] - 5s 79ms/step - loss: 0.1198 - accuracy: 0.9661 - val_loss: 0.8307 - val_accuracy: 0.8786\n",
            "Epoch 25/50\n",
            "62/62 [==============================] - 5s 79ms/step - loss: 0.1098 - accuracy: 0.9679 - val_loss: 0.8343 - val_accuracy: 0.8797\n",
            "Epoch 26/50\n",
            "62/62 [==============================] - 5s 79ms/step - loss: 0.1024 - accuracy: 0.9697 - val_loss: 0.8342 - val_accuracy: 0.8784\n",
            "Epoch 00026: early stopping\n"
          ],
          "name": "stdout"
        }
      ]
    },
    {
      "cell_type": "code",
      "metadata": {
        "id": "RVIwf9GPOTia",
        "outputId": "f364e86a-48cb-4365-be07-209f76d2f6ba",
        "colab": {
          "base_uri": "https://localhost:8080/",
          "height": 35
        }
      },
      "source": [
        "model_json = model.to_json()\n",
        "with open(\"NMT_model.json\", \"w\") as json_file:\n",
        "    json_file.write(model_json)\n",
        "# serialize weights to HDF5\n",
        "model.save_weights(\"NMT_model_weight.h5\")\n",
        "print(\"Saved model to disk\")"
      ],
      "execution_count": 435,
      "outputs": [
        {
          "output_type": "stream",
          "text": [
            "Saved model to disk\n"
          ],
          "name": "stdout"
        }
      ]
    },
    {
      "cell_type": "code",
      "metadata": {
        "id": "ENT-k_uPRtxK"
      },
      "source": [
        "# loading the model architecture and asigning the weights\n",
        "json_file = open('NMT_model.json', 'r')\n",
        "loaded_model_json = json_file.read()\n",
        "json_file.close()\n",
        "model_loaded = model_from_json(loaded_model_json, custom_objects={'AttentionLayer': AttentionLayer})\n",
        "# load weights into new model\n",
        "model_loaded.load_weights(\"NMT_model_weight.h5\")"
      ],
      "execution_count": 436,
      "outputs": []
    },
    {
      "cell_type": "code",
      "metadata": {
        "id": "ELszk8xxRziN",
        "outputId": "98ebb014-32a3-4f71-d105-629964829b35",
        "colab": {
          "base_uri": "https://localhost:8080/",
          "height": 265
        }
      },
      "source": [
        "from matplotlib import pyplot \n",
        "pyplot.plot(history.history['loss'], label='train') \n",
        "pyplot.plot(history.history['val_loss'], label='test') \n",
        "pyplot.legend() \n",
        "pyplot.show()"
      ],
      "execution_count": 437,
      "outputs": [
        {
          "output_type": "display_data",
          "data": {
            "image/png": "[encoded data removed]",
            "text/plain": [
              "<Figure size 432x288 with 1 Axes>"
            ]
          },
          "metadata": {
            "tags": [],
            "needs_background": "light"
          }
        }
      ]
    },
    {
      "cell_type": "code",
      "metadata": {
        "id": "NpUXhMqrLl-1",
        "outputId": "5638c026-85af-400d-e723-44114e1ed434",
        "colab": {
          "base_uri": "https://localhost:8080/",
          "height": 265
        }
      },
      "source": [
        "pyplot.plot(history.history['accuracy'], label='train') \n",
        "pyplot.plot(history.history['val_accuracy'], label='test') \n",
        "pyplot.legend() \n",
        "pyplot.show()"
      ],
      "execution_count": 438,
      "outputs": [
        {
          "output_type": "display_data",
          "data": {
            "image/png": "[encoded data removed]",
            "text/plain": [
              "<Figure size 432x288 with 1 Axes>"
            ]
          },
          "metadata": {
            "tags": [],
            "needs_background": "light"
          }
        }
      ]
    },
    {
      "cell_type": "code",
      "metadata": {
        "id": "5upjUHyaSEsU"
      },
      "source": [
        "with open('NMT_Etokenizer.pkl','rb') as f:\n",
        "  vocab_size_source, Eword2index, englishTokenizer = pkl.load(f)\n",
        "\n",
        "with open('NMT_Btokenizer.pkl', 'rb') as f:\n",
        "  vocab_size_target, Bword2index, BengaliTokenizer = pkl.load(f)\n",
        "\n",
        "with open('NMT_data.pkl','rb') as f:\n",
        "  X_train, y_train, X_test, y_test = pkl.load(f)"
      ],
      "execution_count": 439,
      "outputs": []
    },
    {
      "cell_type": "code",
      "metadata": {
        "id": "0VIhrLXeSWbV"
      },
      "source": [
        "Eindex2word = englishTokenizer.index_word\n",
        "Bindex2word = BengaliTokenizer.index_word"
      ],
      "execution_count": 440,
      "outputs": []
    },
    {
      "cell_type": "code",
      "metadata": {
        "id": "LkquFI06gMQ0"
      },
      "source": [
        "# model_loaded.summary()"
      ],
      "execution_count": 441,
      "outputs": []
    },
    {
      "cell_type": "code",
      "metadata": {
        "id": "93UwmPxwSg3s",
        "outputId": "e376457b-d511-46ee-d51c-a897b2b0ad11",
        "colab": {
          "base_uri": "https://localhost:8080/",
          "height": 52
        }
      },
      "source": [
        "latent_dim=500\n",
        "# encoder inference\n",
        "encoder_inputs = model_loaded.input[0]  #loading encoder_inputs\n",
        "encoder_outputs, state_h, state_c = model_loaded.layers[6].output #loading encoder_outputs\n",
        "\n",
        "print(encoder_outputs.shape)\n",
        "\n",
        "encoder_model = Model(inputs=encoder_inputs,outputs=[encoder_outputs, state_h, state_c])\n",
        "\n",
        "# decoder inference\n",
        "# Below tensors will hold the states of the previous time step\n",
        "decoder_state_input_h = Input(shape=(latent_dim,))\n",
        "decoder_state_input_c = Input(shape=(latent_dim,))\n",
        "decoder_hidden_state_input = Input(shape=(32,latent_dim))\n",
        "\n",
        "# Get the embeddings of the decoder sequence\n",
        "decoder_inputs = model_loaded.layers[3].output\n",
        "\n",
        "print(decoder_inputs.shape)\n",
        "dec_emb_layer = model_loaded.layers[5]\n",
        "\n",
        "dec_emb2= dec_emb_layer(decoder_inputs)\n",
        "\n",
        "# To predict the next word in the sequence, set the initial states to the states from the previous time step\n",
        "decoder_lstm = model_loaded.layers[7]\n",
        "decoder_outputs2, state_h2, state_c2 = decoder_lstm(dec_emb2, initial_state=[decoder_state_input_h, decoder_state_input_c])\n",
        "\n",
        "#attention inference\n",
        "attn_layer = model_loaded.layers[8]\n",
        "attn_out_inf, attn_states_inf = attn_layer([decoder_hidden_state_input, decoder_outputs2])\n",
        "\n",
        "concate = model_loaded.layers[9]\n",
        "decoder_inf_concat = concate([decoder_outputs2, attn_out_inf])\n",
        "\n",
        "# A dense softmax layer to generate prob dist. over the target vocabulary\n",
        "decoder_dense = model_loaded.layers[10]\n",
        "decoder_outputs2 = decoder_dense(decoder_inf_concat)\n",
        "\n",
        "# Final decoder model\n",
        "decoder_model = Model(\n",
        "[decoder_inputs] + [decoder_hidden_state_input,decoder_state_input_h, decoder_state_input_c],\n",
        "[decoder_outputs2] + [state_h2, state_c2])"
      ],
      "execution_count": 442,
      "outputs": [
        {
          "output_type": "stream",
          "text": [
            "(None, 19, 500)\n",
            "(None, None)\n"
          ],
          "name": "stdout"
        }
      ]
    },
    {
      "cell_type": "code",
      "metadata": {
        "id": "gjJnpHaLSraf"
      },
      "source": [
        "def decode_sequence(input_seq):\n",
        "    # Encode the input as state vectors.\n",
        "    e_out, e_h, e_c = encoder_model.predict(input_seq)\n",
        "\n",
        "    # Generate empty target sequence of length 1.\n",
        "    target_seq = np.zeros((1,1))\n",
        "\n",
        "    # Chose the 'start' word as the first word of the target sequence\n",
        "    target_seq[0, 0] = Bword2index['start']\n",
        "\n",
        "    stop_condition = False\n",
        "    decoded_sentence = ''\n",
        "    while not stop_condition:\n",
        "        output_tokens, h, c = decoder_model.predict([target_seq] + [e_out, e_h, e_c])\n",
        "\n",
        "        # Sample a token\n",
        "        sampled_token_index = np.argmax(output_tokens[0, -1, :])\n",
        "        if sampled_token_index == 0:\n",
        "          break\n",
        "        else:\n",
        "          sampled_token = Bindex2word[sampled_token_index]\n",
        "\n",
        "          if(sampled_token!='end'):\n",
        "              decoded_sentence += ' '+sampled_token\n",
        "\n",
        "              # Exit condition: either hit max length or find stop word.\n",
        "              if (sampled_token == 'end' or len(decoded_sentence.split()) >= (26-1)):\n",
        "                  stop_condition = True\n",
        "\n",
        "          # Update the target sequence (of length 1).\n",
        "          target_seq = np.zeros((1,1))\n",
        "          target_seq[0, 0] = sampled_token_index\n",
        "\n",
        "          # Update internal states\n",
        "          e_h, e_c = h, c\n",
        "\n",
        "    return decoded_sentence"
      ],
      "execution_count": 443,
      "outputs": []
    },
    {
      "cell_type": "code",
      "metadata": {
        "id": "TOaWp74qTMl8"
      },
      "source": [
        "def seq2summary(input_seq):\n",
        "    newString=''\n",
        "    for i in input_seq:\n",
        "      if((i!=0 and i!=Bword2index['start']) and i!=Bword2index['end']):\n",
        "        newString=newString+Bindex2word[i]+' '\n",
        "    return newString\n",
        "\n",
        "def seq2text(input_seq):\n",
        "    newString=''\n",
        "    for i in input_seq:\n",
        "      if(i!=0):\n",
        "        newString=newString+Eindex2word[i]+' '\n",
        "    return newString"
      ],
      "execution_count": 444,
      "outputs": []
    },
    {
      "cell_type": "code",
      "metadata": {
        "id": "IPE51LS4TB2D",
        "outputId": "545b6d51-5962-4705-daeb-8ea2e2c72edc",
        "colab": {
          "base_uri": "https://localhost:8080/",
          "height": 1000
        }
      },
      "source": [
        "for i in range(20):\n",
        "  \n",
        "  print(\"Review:\",seq2text(X_test[i]))\n",
        "  print(\"Original summary:\",seq2summary(y_test[i]))\n",
        "  print(\"Predicted summary:\",decode_sequence(X_test[i].reshape(1,19)))\n",
        "  print(\"\\n\")"
      ],
      "execution_count": 447,
      "outputs": [
        {
          "output_type": "stream",
          "text": [
            "Review: what happened here \n",
            "Original summary: এখানে কি হয়েছে \n",
            "Predicted summary:  মৌমাছিরা কী খায়\n",
            "\n",
            "\n",
            "Review: tom is in now \n",
            "Original summary: টম এখন \n",
            "Predicted summary:  টম এখানে থাকে।\n",
            "\n",
            "\n",
            "Review: i want to get off at the next stop \n",
            "Original summary: আমি পরের স্টপে চাই। \n",
            "Predicted summary:  আমি এই ট্রেনে একটা আসন সংরক্ষণ করতে চাই।\n",
            "\n",
            "\n",
            "Review: thats what i was looking for \n",
            "Original summary: আমি এইটাই \n",
            "Predicted summary:  আমি চায়না স্টেশনে কিভাবে যাব\n",
            "\n",
            "\n",
            "Review: tom started in french \n",
            "Original summary: টম ফরাসিতে দেওয়া শুরু করলো। \n",
            "Predicted summary:  টম ওনার কথা রাখেন।\n",
            "\n",
            "\n",
            "Review: i dont know what you mean \n",
            "Original summary: আমি জানিনা তুমি কি বোঝাতে \n",
            "Predicted summary:  আমি জানিনা আপনি কি বোঝাতে চাইছেন।\n",
            "\n",
            "\n",
            "Review: everybody tom \n",
            "Original summary: সবাই টমকে \n",
            "Predicted summary:  সবাই চিৎকার করলো।\n",
            "\n",
            "\n",
            "Review: everythings negotiable \n",
            "Original summary: সবকিছুই আলোচনাসূত্রে মীমাংসাযোগ্য। \n",
            "Predicted summary:  সবকিছুই এখানে আছে।\n",
            "\n",
            "\n",
            "Review: tom is coughing \n",
            "Original summary: টম \n",
            "Predicted summary:  টম ছাড়ো।\n",
            "\n",
            "\n",
            "Review: i dont want you to go \n",
            "Original summary: আমি চাই না যে তুই \n",
            "Predicted summary:  আমি চাই না যে আপনি যান।\n",
            "\n",
            "\n",
            "Review: why do you want to hurt tom \n",
            "Original summary: তুমি টমকে আঘাত দিতে চাও কেন \n",
            "Predicted summary:  তুই টমকে আঘাত দিতে চাস কেন\n",
            "\n",
            "\n",
            "Review: he stuck the broken pieces together \n",
            "Original summary: উনি ভাঙ্গা টুকরোগুলো জোড়া \n",
            "Predicted summary:  উনি ইংরাজি পড়াতে সক্ষম।\n",
            "\n",
            "\n",
            "Review: arent you a doctor \n",
            "Original summary: তুমি ডাক্তার না \n",
            "Predicted summary:  আপনি ডাক্তার না\n",
            "\n",
            "\n",
            "Review: hes younger than me \n",
            "Original summary: সে আমার থেকে ছোট। \n",
            "Predicted summary:  ও আমার থেকে ছোট।\n",
            "\n",
            "\n",
            "Review: why are you shouting \n",
            "Original summary: তোমরা চিৎকার করছো কেন \n",
            "Predicted summary:  তুমি চিৎকার করছো কেন\n",
            "\n",
            "\n",
            "Review: dont talk \n",
            "Original summary: কথা বলিস না \n",
            "Predicted summary:  কথা বলবেন না।\n",
            "\n",
            "\n",
            "Review: count to thirty \n",
            "Original summary: তিরিশ অবধি \n",
            "Predicted summary:  তিরিশ অবধি গোন।\n",
            "\n",
            "\n",
            "Review: tom ate \n",
            "Original summary: টম \n",
            "Predicted summary:  টম নিশ্বাস ছাড়লো।\n",
            "\n",
            "\n",
            "Review: youll need a ticket to travel by bus \n",
            "Original summary: বাসে করে ঘুরতে হলে আপনাকে টিকিট কাটতে হবে। \n",
            "Predicted summary:  তোমার একা একা জঙ্গলে যাওয়া উচিত হয় নি।\n",
            "\n",
            "\n",
            "Review: see you later ok \n",
            "Original summary: আবার পরে দেখা হবে ঠিক আছে \n",
            "Predicted summary:  তুমি কোথায়\n",
            "\n",
            "\n"
          ],
          "name": "stdout"
        }
      ]
    },
    {
      "cell_type": "code",
      "metadata": {
        "id": "IzJkBArQTnZX"
      },
      "source": [
        ""
      ],
      "execution_count": null,
      "outputs": []
    },
    {
      "cell_type": "code",
      "metadata": {
        "id": "RmIAlyxST20o"
      },
      "source": [
        ""
      ],
      "execution_count": null,
      "outputs": []
    }
  ]
}